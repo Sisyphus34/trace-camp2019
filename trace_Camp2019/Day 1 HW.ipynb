{
 "cells": [
  {
   "cell_type": "code",
   "execution_count": 75,
   "metadata": {},
   "outputs": [
    {
     "data": {
      "application/vnd.jupyter.widget-view+json": {
       "model_id": "dcd20878df7a4cf98ef666393f3f87d8",
       "version_major": 2,
       "version_minor": 0
      },
      "text/plain": [
       "DatePicker(value=None, description='Birthdate')"
      ]
     },
     "metadata": {},
     "output_type": "display_data"
    }
   ],
   "source": [
    "import ipywidgets as widgets\n",
    "import datetime\n",
    "import random\n",
    "\n",
    "horo_list = [\"You're day will be showered with luck and possibly rain\", \n",
    "             \"Today will be a reminder of the hideous montage of humiliation and pain that is your existence\",\n",
    "            \"True love awaits those better than you!\",\n",
    "            \"Good luck, the spirits are pissy and want to take it out on you\",\n",
    "            \"You will reunite with an old flame\",\n",
    "            \"Things are looking up for you\",\n",
    "            \"Your dreams will come true today...but only the nightmares\"]\n",
    "\n",
    "def get_month(argument):\n",
    "    month_dict = {\n",
    "        1: \"January\",\n",
    "        2: \"February\",\n",
    "        3: \"March\",\n",
    "        4: \"April\",\n",
    "        5: \"May\",\n",
    "        6: \"June\",\n",
    "        7: \"July\",\n",
    "        8: \"August\",\n",
    "        9: \"September\",\n",
    "        10: \"October\",\n",
    "        11: \"November\",\n",
    "        12: \"December\"\n",
    "    }\n",
    "\n",
    "# zodiac_signs = { \n",
    "#     \"Aries\": [datetime.date(2019, 3, 21), datetime.date(2019, 4, 19) ],\n",
    "#     \"Taurus\": [datetime.date(2019, 4, 20), datetime.date(2019, 5, 20) ]\n",
    "#     }\n",
    "    \n",
    "def get_date(date_dict):\n",
    "    #print(date_dict)\n",
    "    date = date_dict['new']\n",
    "#     print(date.month)\n",
    "#     print(date.day)\n",
    "    month = date.month\n",
    "    day = date.day\n",
    "    mon_sel = get_month(month)\n",
    "    print(\"Your sign is: \")\n",
    "    if(month == 1):\n",
    "        if(day <= 19):\n",
    "            print(\"Capricorn\")\n",
    "        else:\n",
    "            print(\"Aquarius\")\n",
    "    if(month == 2):\n",
    "        if(day <= 18):\n",
    "            print(\"Aquarius\")\n",
    "        else:\n",
    "            print(\"Pisces\")\n",
    "    if(month == 3):\n",
    "        if(day <= 20):\n",
    "            print(\"Pisces\")\n",
    "        else:\n",
    "            print(\"Aries\")\n",
    "    if(month == 4):\n",
    "        if(day <= 19):\n",
    "            print(\"Aries\")\n",
    "        else:\n",
    "            print(\"Taurus\")\n",
    "    if(month == 5):\n",
    "        if(day <= 20):\n",
    "            print(\"Taurus\")\n",
    "        else:\n",
    "            print(\"Gemini\")\n",
    "    if(month == 6):\n",
    "        if(day <= 22):\n",
    "            print(\"Gemini\")\n",
    "        else:\n",
    "            print(\"Leo\")\n",
    "    if(month == 7):\n",
    "        if(day <= 22):\n",
    "            print(\"Gemini\")\n",
    "        else:\n",
    "            print(\"Leo\")\n",
    "    if(month == 8):\n",
    "        if(day <= 22):\n",
    "            print(\"Leo\")\n",
    "        else:\n",
    "            print(\"Virgo\")\n",
    "    if(month == 9):\n",
    "        if(day <= 22):\n",
    "            print(\"Virgo\")\n",
    "        else:\n",
    "            print(\"Libra\")\n",
    "    if(month == 10):\n",
    "        if(day <= 23):\n",
    "            print(\"Libra\")\n",
    "        else:\n",
    "            print(\"Scorpio\")\n",
    "    if(month == 11):\n",
    "        if(day <= 21):\n",
    "            print(\"Scorpio\")\n",
    "        else:\n",
    "            print(\"Sagittarius\")\n",
    "    if(month == 12):\n",
    "        if(day <= 21):\n",
    "            print(\"Sagittarius\")\n",
    "        else:\n",
    "            print(\"Capricorn\")\n",
    "    print(f'\\nHoroscope: \\n{horo_list[random.randrange(6)]}\\n')\n",
    "    \n",
    "myDatePicker = widgets.DatePicker(\n",
    "                description='Birthdate',\n",
    "                disabled=False\n",
    "                )\n",
    "\n",
    "myDatePicker.observe(get_date, 'value')\n",
    "\n",
    "myDatePicker\n"
   ]
  },
  {
   "cell_type": "code",
   "execution_count": 73,
   "metadata": {},
   "outputs": [
    {
     "name": "stdout",
     "output_type": "stream",
     "text": [
      "[1, 2, 3, 4, 5, 6, 7, 8, 9, 10]\n",
      "[3, 4, 5, 6, 7, 8, 9, 10, 11, 12]\n",
      "[1, 8, 27, 64, 125, 216, 343, 512, 729, 1000]\n",
      "[1, 2, 6, 4, 5, 9, 7, 8, 12, 10]\n"
     ]
    }
   ],
   "source": [
    "num_list = [1, 2, 3, 4, 5, 6, 7, 8, 9, 10]\n",
    "print(num_list)\n",
    "def add_two(n):\n",
    "    return n + 2\n",
    "\n",
    "sum = map(add_two, num_list)\n",
    "num_list_added = list(sum)\n",
    "print(num_list_added)\n",
    "\n",
    "def cubed(n):\n",
    "    return n**3\n",
    "\n",
    "cube = map(cubed, num_list)\n",
    "num_list_cubed = list(cube)\n",
    "print(num_list_cubed)\n",
    "\n",
    "def mod_three_add(n):\n",
    "    if(n % 3 == 0):\n",
    "        return n + 3\n",
    "    else:\n",
    "        return n\n",
    "\n",
    "\n",
    "mod = map(mod_three_add, num_list)\n",
    "num_list_modded = list(mod)\n",
    "print(num_list_modded)\n"
   ]
  },
  {
   "cell_type": "code",
   "execution_count": 81,
   "metadata": {},
   "outputs": [
    {
     "data": {
      "text/html": [
       "<img src=\"https://apod.nasa.gov/apod/image/1601/LagoonHSO_Nemcik_960.jpg\"/>"
      ],
      "text/plain": [
       "<IPython.core.display.Image object>"
      ]
     },
     "metadata": {},
     "output_type": "display_data"
    },
    {
     "ename": "KeyboardInterrupt",
     "evalue": "",
     "output_type": "error",
     "traceback": [
      "\u001b[0;31m---------------------------------------------------------------------------\u001b[0m",
      "\u001b[0;31mKeyboardInterrupt\u001b[0m                         Traceback (most recent call last)",
      "\u001b[0;32m<ipython-input-81-ed3dc5422550>\u001b[0m in \u001b[0;36m<module>\u001b[0;34m\u001b[0m\n\u001b[1;32m     20\u001b[0m         \u001b[0mclear_output\u001b[0m\u001b[0;34m(\u001b[0m\u001b[0;34m)\u001b[0m\u001b[0;34m\u001b[0m\u001b[0;34m\u001b[0m\u001b[0m\n\u001b[1;32m     21\u001b[0m         \u001b[0mdisplay\u001b[0m\u001b[0;34m(\u001b[0m\u001b[0mImage\u001b[0m\u001b[0;34m(\u001b[0m\u001b[0murl\u001b[0m\u001b[0;34m=\u001b[0m\u001b[0murl\u001b[0m\u001b[0;34m)\u001b[0m\u001b[0;34m)\u001b[0m\u001b[0;34m\u001b[0m\u001b[0;34m\u001b[0m\u001b[0m\n\u001b[0;32m---> 22\u001b[0;31m         \u001b[0mtime\u001b[0m\u001b[0;34m.\u001b[0m\u001b[0msleep\u001b[0m\u001b[0;34m(\u001b[0m\u001b[0;36m6\u001b[0m\u001b[0;34m)\u001b[0m\u001b[0;34m\u001b[0m\u001b[0;34m\u001b[0m\u001b[0m\n\u001b[0m\u001b[1;32m     23\u001b[0m \u001b[0;34m\u001b[0m\u001b[0m\n\u001b[1;32m     24\u001b[0m \u001b[0;34m\u001b[0m\u001b[0m\n",
      "\u001b[0;31mKeyboardInterrupt\u001b[0m: "
     ]
    }
   ],
   "source": [
    "#nasa api slideshow\n",
    "\n",
    "import requests\n",
    "import pprint\n",
    "import time\n",
    "from IPython.core.display import Image, display\n",
    "from IPython.display import clear_output\n",
    "pp = pprint.PrettyPrinter(indent=4)\n",
    "# https://api.nasa.gov/api.html#apod\n",
    "# This is a parameter \n",
    "api_key = \"oMrH77hL0IcYFpEAYw6HpzxULiro2VX2jGy9CIMV\"\n",
    "\n",
    "# We are doing a get request\n",
    "for month in range(1,12):\n",
    "    for day in range(1,31):\n",
    "        data = f\"2016-{month}-{day}\"\n",
    "        r = requests.get(f'https://api.nasa.gov/planetary/apod?date={data}&api_key={api_key}')\n",
    "        print(r.status_code)\n",
    "        url = r.json()[\"url\"]\n",
    "        clear_output()\n",
    "        display(Image(url=url))\n",
    "        time.sleep(6)\n",
    "        \n",
    "\n"
   ]
  },
  {
   "cell_type": "code",
   "execution_count": null,
   "metadata": {},
   "outputs": [],
   "source": []
  }
 ],
 "metadata": {
  "kernelspec": {
   "display_name": "Python 3",
   "language": "python",
   "name": "python3"
  },
  "language_info": {
   "codemirror_mode": {
    "name": "ipython",
    "version": 3
   },
   "file_extension": ".py",
   "mimetype": "text/x-python",
   "name": "python",
   "nbconvert_exporter": "python",
   "pygments_lexer": "ipython3",
   "version": "3.7.4"
  }
 },
 "nbformat": 4,
 "nbformat_minor": 2
}
